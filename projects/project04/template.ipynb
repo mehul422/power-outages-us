{
 "cells": [
  {
   "cell_type": "markdown",
   "metadata": {},
   "source": [
    "# Power Outages in the Continental United States (January 2000 - July 2016)\n",
    "\n",
    "**Name(s)**: Mehul Verma, Terran Chow\n",
    "\n",
    "**Website Link**: N/A"
   ]
  },
  {
   "cell_type": "code",
   "execution_count": 1,
   "metadata": {
    "ExecuteTime": {
     "end_time": "2019-10-31T23:36:28.652554Z",
     "start_time": "2019-10-31T23:36:27.180520Z"
    }
   },
   "outputs": [],
   "source": [
    "import pandas as pd\n",
    "import numpy as np\n",
    "from pathlib import Path\n",
    "\n",
    "import plotly.express as px\n",
    "pd.options.plotting.backend = 'plotly'\n",
    "\n",
    "from dsc80_utils import * # Feel free to uncomment and use this."
   ]
  },
  {
   "cell_type": "code",
   "execution_count": 2,
   "metadata": {},
   "outputs": [
    {
     "name": "stdout",
     "output_type": "stream",
     "text": [
      "Requirement already satisfied: pandas in /Users/mehulverma422/miniforge3/envs/dsc80/lib/python3.12/site-packages (2.2.3)\n",
      "Requirement already satisfied: openpyxl in /Users/mehulverma422/miniforge3/envs/dsc80/lib/python3.12/site-packages (3.1.5)\n",
      "Requirement already satisfied: xlrd in /Users/mehulverma422/miniforge3/envs/dsc80/lib/python3.12/site-packages (2.0.1)\n",
      "Requirement already satisfied: numpy>=1.26.0 in /Users/mehulverma422/miniforge3/envs/dsc80/lib/python3.12/site-packages (from pandas) (2.1.1)\n",
      "Requirement already satisfied: python-dateutil>=2.8.2 in /Users/mehulverma422/miniforge3/envs/dsc80/lib/python3.12/site-packages (from pandas) (2.9.0)\n",
      "Requirement already satisfied: pytz>=2020.1 in /Users/mehulverma422/miniforge3/envs/dsc80/lib/python3.12/site-packages (from pandas) (2024.1)\n",
      "Requirement already satisfied: tzdata>=2022.7 in /Users/mehulverma422/miniforge3/envs/dsc80/lib/python3.12/site-packages (from pandas) (2024.2)\n",
      "Requirement already satisfied: et-xmlfile in /Users/mehulverma422/miniforge3/envs/dsc80/lib/python3.12/site-packages (from openpyxl) (2.0.0)\n",
      "Requirement already satisfied: six>=1.5 in /Users/mehulverma422/miniforge3/envs/dsc80/lib/python3.12/site-packages (from python-dateutil>=2.8.2->pandas) (1.16.0)\n",
      "Note: you may need to restart the kernel to use updated packages.\n"
     ]
    }
   ],
   "source": [
    "pip install pandas openpyxl xlrd"
   ]
  },
  {
   "cell_type": "markdown",
   "metadata": {},
   "source": [
    "## Step 1: Introduction"
   ]
  },
  {
   "cell_type": "markdown",
   "metadata": {},
   "source": [
    "The data that we will be examining throughout the remainder of the entire project has to do with the major power outage data in the continental U.S. from January 2000 to July 2016. We chose this dataset because we initially proposed a hypothesis that power outages affect a lot of disproportionately placed individuals in highly dense and concentrated urban epicenters throughout the continental United States, so we wanted to examine whether this actually held true with the data provided to us, or whether rural areas may have more power outages because they have less land mass, and therefore less of an urban population % in their respective states. We also initially proposed a couple of questions regarding the severity of power outages across disproportional areas throughout the United States, characteristics of severe power outages, and risk factors that an energy company want to look into when predicting the location and severity of its next major power outage. However, after careful thought and a lot of deliberation, we decided to hone in on one question: to what extent do geographic, infrastructural, and environmental factors influence the frequency and duration of power outages in rural areas vs. urban epicenters in the continental United States?"
   ]
  },
  {
   "cell_type": "markdown",
   "metadata": {},
   "source": [
    "## Step 2: Data Cleaning and Exploratory Data Analysis"
   ]
  },
  {
   "cell_type": "code",
   "execution_count": 3,
   "metadata": {
    "ExecuteTime": {
     "end_time": "2019-10-31T23:36:28.657068Z",
     "start_time": "2019-10-31T23:36:28.654650Z"
    }
   },
   "outputs": [
    {
     "data": {
      "text/html": [
       "<div>\n",
       "<style scoped>\n",
       "    .dataframe tbody tr th:only-of-type {\n",
       "        vertical-align: middle;\n",
       "    }\n",
       "\n",
       "    .dataframe tbody tr th {\n",
       "        vertical-align: top;\n",
       "    }\n",
       "\n",
       "    .dataframe thead th {\n",
       "        text-align: right;\n",
       "    }\n",
       "</style>\n",
       "<table border=\"1\" class=\"dataframe\">\n",
       "  <thead>\n",
       "    <tr style=\"text-align: right;\">\n",
       "      <th></th>\n",
       "      <th>OBS</th>\n",
       "      <th>YEAR</th>\n",
       "      <th>MONTH</th>\n",
       "      <th>U.S._STATE</th>\n",
       "      <th>...</th>\n",
       "      <th>AREAPCT_UC</th>\n",
       "      <th>PCT_LAND</th>\n",
       "      <th>PCT_WATER_TOT</th>\n",
       "      <th>PCT_WATER_INLAND</th>\n",
       "    </tr>\n",
       "  </thead>\n",
       "  <tbody>\n",
       "    <tr>\n",
       "      <th>1</th>\n",
       "      <td>1.0</td>\n",
       "      <td>2011.0</td>\n",
       "      <td>7.0</td>\n",
       "      <td>Minnesota</td>\n",
       "      <td>...</td>\n",
       "      <td>0.6</td>\n",
       "      <td>91.59</td>\n",
       "      <td>8.41</td>\n",
       "      <td>5.48</td>\n",
       "    </tr>\n",
       "    <tr>\n",
       "      <th>2</th>\n",
       "      <td>2.0</td>\n",
       "      <td>2014.0</td>\n",
       "      <td>5.0</td>\n",
       "      <td>Minnesota</td>\n",
       "      <td>...</td>\n",
       "      <td>0.6</td>\n",
       "      <td>91.59</td>\n",
       "      <td>8.41</td>\n",
       "      <td>5.48</td>\n",
       "    </tr>\n",
       "    <tr>\n",
       "      <th>3</th>\n",
       "      <td>3.0</td>\n",
       "      <td>2010.0</td>\n",
       "      <td>10.0</td>\n",
       "      <td>Minnesota</td>\n",
       "      <td>...</td>\n",
       "      <td>0.6</td>\n",
       "      <td>91.59</td>\n",
       "      <td>8.41</td>\n",
       "      <td>5.48</td>\n",
       "    </tr>\n",
       "    <tr>\n",
       "      <th>...</th>\n",
       "      <td>...</td>\n",
       "      <td>...</td>\n",
       "      <td>...</td>\n",
       "      <td>...</td>\n",
       "      <td>...</td>\n",
       "      <td>...</td>\n",
       "      <td>...</td>\n",
       "      <td>...</td>\n",
       "      <td>...</td>\n",
       "    </tr>\n",
       "    <tr>\n",
       "      <th>1532</th>\n",
       "      <td>1532.0</td>\n",
       "      <td>2009.0</td>\n",
       "      <td>8.0</td>\n",
       "      <td>South Dakota</td>\n",
       "      <td>...</td>\n",
       "      <td>0.15</td>\n",
       "      <td>98.31</td>\n",
       "      <td>1.69</td>\n",
       "      <td>1.69</td>\n",
       "    </tr>\n",
       "    <tr>\n",
       "      <th>1533</th>\n",
       "      <td>1533.0</td>\n",
       "      <td>2009.0</td>\n",
       "      <td>8.0</td>\n",
       "      <td>South Dakota</td>\n",
       "      <td>...</td>\n",
       "      <td>0.15</td>\n",
       "      <td>98.31</td>\n",
       "      <td>1.69</td>\n",
       "      <td>1.69</td>\n",
       "    </tr>\n",
       "    <tr>\n",
       "      <th>1534</th>\n",
       "      <td>1534.0</td>\n",
       "      <td>2000.0</td>\n",
       "      <td>NaN</td>\n",
       "      <td>Alaska</td>\n",
       "      <td>...</td>\n",
       "      <td>0.02</td>\n",
       "      <td>85.76</td>\n",
       "      <td>14.24</td>\n",
       "      <td>2.9</td>\n",
       "    </tr>\n",
       "  </tbody>\n",
       "</table>\n",
       "<p>1534 rows × 56 columns</p>\n",
       "</div>"
      ],
      "text/plain": [
       "         OBS    YEAR  MONTH    U.S._STATE  ... AREAPCT_UC PCT_LAND  \\\n",
       "1        1.0  2011.0    7.0     Minnesota  ...        0.6    91.59   \n",
       "2        2.0  2014.0    5.0     Minnesota  ...        0.6    91.59   \n",
       "3        3.0  2010.0   10.0     Minnesota  ...        0.6    91.59   \n",
       "...      ...     ...    ...           ...  ...        ...      ...   \n",
       "1532  1532.0  2009.0    8.0  South Dakota  ...       0.15    98.31   \n",
       "1533  1533.0  2009.0    8.0  South Dakota  ...       0.15    98.31   \n",
       "1534  1534.0  2000.0    NaN        Alaska  ...       0.02    85.76   \n",
       "\n",
       "     PCT_WATER_TOT PCT_WATER_INLAND  \n",
       "1             8.41             5.48  \n",
       "2             8.41             5.48  \n",
       "3             8.41             5.48  \n",
       "...            ...              ...  \n",
       "1532          1.69             1.69  \n",
       "1533          1.69             1.69  \n",
       "1534         14.24              2.9  \n",
       "\n",
       "[1534 rows x 56 columns]"
      ]
     },
     "execution_count": 3,
     "metadata": {},
     "output_type": "execute_result"
    }
   ],
   "source": [
    "power_outages = pd.read_excel('outage.xlsx')\n",
    "power_outages_cleaned = power_outages.iloc[1:].dropna(axis=1, how='all')\n",
    "power_outages_cleaned"
   ]
  },
  {
   "cell_type": "code",
   "execution_count": 4,
   "metadata": {},
   "outputs": [
    {
     "data": {
      "text/plain": [
       "1         2279\n",
       "2         2279\n",
       "3         2279\n",
       "         ...  \n",
       "1532    2038.3\n",
       "1533    2038.3\n",
       "1534    1802.6\n",
       "Name: POPDEN_URBAN, Length: 1534, dtype: object"
      ]
     },
     "execution_count": 4,
     "metadata": {},
     "output_type": "execute_result"
    }
   ],
   "source": [
    "power_outages_cleaned['POPDEN_URBAN']"
   ]
  },
  {
   "cell_type": "code",
   "execution_count": null,
   "metadata": {},
   "outputs": [],
   "source": []
  },
  {
   "cell_type": "code",
   "execution_count": 5,
   "metadata": {},
   "outputs": [
    {
     "data": {
      "text/plain": [
       "1       18.2\n",
       "2       18.2\n",
       "3       18.2\n",
       "        ... \n",
       "1532     4.7\n",
       "1533     4.7\n",
       "1534     0.4\n",
       "Name: POPDEN_RURAL, Length: 1534, dtype: object"
      ]
     },
     "execution_count": 5,
     "metadata": {},
     "output_type": "execute_result"
    }
   ],
   "source": [
    "power_outages_cleaned['POPDEN_RURAL']"
   ]
  },
  {
   "cell_type": "code",
   "execution_count": 6,
   "metadata": {},
   "outputs": [
    {
     "data": {
      "text/html": [
       "<div>\n",
       "<style scoped>\n",
       "    .dataframe tbody tr th:only-of-type {\n",
       "        vertical-align: middle;\n",
       "    }\n",
       "\n",
       "    .dataframe tbody tr th {\n",
       "        vertical-align: top;\n",
       "    }\n",
       "\n",
       "    .dataframe thead th {\n",
       "        text-align: right;\n",
       "    }\n",
       "</style>\n",
       "<table border=\"1\" class=\"dataframe\">\n",
       "  <thead>\n",
       "    <tr style=\"text-align: right;\">\n",
       "      <th></th>\n",
       "      <th>Population Density (Urban)</th>\n",
       "      <th>Population Density (Rural)</th>\n",
       "    </tr>\n",
       "  </thead>\n",
       "  <tbody>\n",
       "    <tr>\n",
       "      <th>1</th>\n",
       "      <td>2279</td>\n",
       "      <td>18.2</td>\n",
       "    </tr>\n",
       "    <tr>\n",
       "      <th>2</th>\n",
       "      <td>2279</td>\n",
       "      <td>18.2</td>\n",
       "    </tr>\n",
       "    <tr>\n",
       "      <th>3</th>\n",
       "      <td>2279</td>\n",
       "      <td>18.2</td>\n",
       "    </tr>\n",
       "    <tr>\n",
       "      <th>...</th>\n",
       "      <td>...</td>\n",
       "      <td>...</td>\n",
       "    </tr>\n",
       "    <tr>\n",
       "      <th>1532</th>\n",
       "      <td>2038.3</td>\n",
       "      <td>4.7</td>\n",
       "    </tr>\n",
       "    <tr>\n",
       "      <th>1533</th>\n",
       "      <td>2038.3</td>\n",
       "      <td>4.7</td>\n",
       "    </tr>\n",
       "    <tr>\n",
       "      <th>1534</th>\n",
       "      <td>1802.6</td>\n",
       "      <td>0.4</td>\n",
       "    </tr>\n",
       "  </tbody>\n",
       "</table>\n",
       "<p>1534 rows × 2 columns</p>\n",
       "</div>"
      ],
      "text/plain": [
       "     Population Density (Urban) Population Density (Rural)\n",
       "1                          2279                       18.2\n",
       "2                          2279                       18.2\n",
       "3                          2279                       18.2\n",
       "...                         ...                        ...\n",
       "1532                     2038.3                        4.7\n",
       "1533                     2038.3                        4.7\n",
       "1534                     1802.6                        0.4\n",
       "\n",
       "[1534 rows x 2 columns]"
      ]
     },
     "execution_count": 6,
     "metadata": {},
     "output_type": "execute_result"
    }
   ],
   "source": [
    "population_density_df = pd.DataFrame({\n",
    "    'Population Density (Urban)': power_outages_cleaned['POPDEN_URBAN'],\n",
    "    'Population Density (Rural)': power_outages_cleaned['POPDEN_RURAL']\n",
    "})\n",
    "population_density_df"
   ]
  },
  {
   "cell_type": "code",
   "execution_count": 7,
   "metadata": {},
   "outputs": [],
   "source": [
    "# UNIVARIATE 1"
   ]
  },
  {
   "cell_type": "code",
   "execution_count": null,
   "metadata": {},
   "outputs": [],
   "source": [
    "# Reshape the data into long format\n",
    "population_density_df = pd.DataFrame({\n",
    "    'Population Density (Urban)': power_outages_cleaned['POPDEN_URBAN'],\n",
    "    'Population Density (Rural)': power_outages_cleaned['POPDEN_RURAL']\n",
    "})\n",
    "population_density_melted = population_density_df.melt(\n",
    "    var_name=\"Area Type\", \n",
    "    value_name=\"Population Density\"\n",
    ")\n",
    "# Create a boxplot\n",
    "urban_rural_plot = px.box(\n",
    "    population_density_melted,\n",
    "    x=\"Area Type\",\n",
    "    y=\"Population Density\",\n",
    "    color=\"Area Type\",\n",
    "    title=\"Population Density: Urban vs. Rural Areas in the Continental US\",\n",
    "    labels={\"Area Type\": \"Area Type\", \"Population Density\": \"Density (persons/sq. mile)\"},\n",
    "    color_discrete_map={'Population Density (Urban)': \"blue\", 'Population Density (Rural)': \"green\"}\n",
    ")\n",
    "\n",
    "# Display the plot\n",
    "urban_rural_plot.show(renderer='browser')\n",
    "urban_rural_plot.write_html(\"\", include_plotlyjs='cdn')"
   ]
  },
  {
   "cell_type": "code",
   "execution_count": 9,
   "metadata": {},
   "outputs": [],
   "source": [
    "# UNIVARIATE 2"
   ]
  },
  {
   "cell_type": "code",
   "execution_count": 13,
   "metadata": {},
   "outputs": [],
   "source": [
    "# Reshape the DataFrame for sector percentages\n",
    "sector_divider_melted = power_outages_cleaned.melt(\n",
    "    id_vars=None,  # No specific ID columns, as we're just reshaping percentages\n",
    "    value_vars=['RES.PERCEN', 'COM.PERCEN', 'IND.PERCEN'],  # Columns to melt\n",
    "    var_name=\"Sector\",  # New column for variable names\n",
    "    value_name=\"Percentage (%)\"  # New column for values\n",
    ")\n",
    "\n",
    "# Rename sectors to make them more descriptive\n",
    "sector_divider_melted['Sector'] = sector_divider_melted['Sector'].replace({\n",
    "    'RES.PERCEN': 'Residential Consumption %',\n",
    "    'COM.PERCEN': 'Commercial Consumption %',\n",
    "    'IND.PERCEN': 'Industrial Consumption %'\n",
    "})\n",
    "\n",
    "# Create the histogram\n",
    "sector_pct_hist = px.histogram(\n",
    "    sector_divider_melted,\n",
    "    x=\"Percentage (%)\",\n",
    "    color=\"Sector\",\n",
    "    title=\"Distribution of Electricity Consumption by Sector\",\n",
    "    labels={\"Percentage (%)\": \"Percentage of Total Consumption (%)\", \"Sector\": \"Sector\"},\n",
    "    color_discrete_map={\n",
    "        'Residential Consumption %': \"blue\",\n",
    "        'Commercial Consumption %': \"green\",\n",
    "        'Industrial Consumption %': \"orange\"\n",
    "    },\n",
    "    marginal=\"box\",  # Adds boxplots for detailed distribution view\n",
    "    opacity=0.7,     # Adjusts transparency for overlap\n",
    "    barmode=\"overlay\"  # Overlays the histograms for easy comparison\n",
    ")\n",
    "\n",
    "# Display the plot\n",
    "sector_pct_hist.show(renderer='browser')"
   ]
  },
  {
   "cell_type": "markdown",
   "metadata": {},
   "source": [
    "## Step 3: Assessment of Missingness"
   ]
  },
  {
   "cell_type": "markdown",
   "metadata": {},
   "source": [
    "## Step 4: Hypothesis Testing"
   ]
  },
  {
   "cell_type": "markdown",
   "metadata": {},
   "source": [
    "## Step 5: Framing a Prediction Problem"
   ]
  },
  {
   "cell_type": "code",
   "execution_count": null,
   "metadata": {
    "ExecuteTime": {
     "end_time": "2019-10-31T23:36:28.657068Z",
     "start_time": "2019-10-31T23:36:28.654650Z"
    }
   },
   "outputs": [],
   "source": []
  },
  {
   "cell_type": "markdown",
   "metadata": {},
   "source": [
    "## Step 6: Baseline Model"
   ]
  },
  {
   "cell_type": "code",
   "execution_count": null,
   "metadata": {
    "ExecuteTime": {
     "end_time": "2019-10-31T23:36:28.662099Z",
     "start_time": "2019-10-31T23:36:28.660016Z"
    }
   },
   "outputs": [],
   "source": [
    "# TODO"
   ]
  },
  {
   "cell_type": "markdown",
   "metadata": {},
   "source": [
    "## Step 7: Final Model"
   ]
  },
  {
   "cell_type": "code",
   "execution_count": null,
   "metadata": {
    "ExecuteTime": {
     "end_time": "2019-10-31T23:36:28.662099Z",
     "start_time": "2019-10-31T23:36:28.660016Z"
    }
   },
   "outputs": [],
   "source": [
    "# TODO"
   ]
  },
  {
   "cell_type": "markdown",
   "metadata": {},
   "source": [
    "## Step 8: Fairness Analysis"
   ]
  },
  {
   "cell_type": "code",
   "execution_count": null,
   "metadata": {
    "ExecuteTime": {
     "end_time": "2019-10-31T23:36:28.666489Z",
     "start_time": "2019-10-31T23:36:28.664381Z"
    }
   },
   "outputs": [],
   "source": [
    "# TODO"
   ]
  }
 ],
 "metadata": {
  "kernelspec": {
   "display_name": "Python 3 (ipykernel)",
   "language": "python",
   "name": "python3"
  },
  "language_info": {
   "codemirror_mode": {
    "name": "ipython",
    "version": 3
   },
   "file_extension": ".py",
   "mimetype": "text/x-python",
   "name": "python",
   "nbconvert_exporter": "python",
   "pygments_lexer": "ipython3",
   "version": "3.12.6"
  }
 },
 "nbformat": 4,
 "nbformat_minor": 4
}
