{
 "cells": [
  {
   "cell_type": "markdown",
   "metadata": {},
   "source": [
    "# Power Outages in the Continental United States (January 2000 - July 2016)\n",
    "\n",
    "**Name(s)**: Mehul Verma, Terran Chow\n",
    "\n",
    "**Website Link**: N/A"
   ]
  },
  {
   "cell_type": "code",
   "execution_count": 1,
   "metadata": {
    "ExecuteTime": {
     "end_time": "2019-10-31T23:36:28.652554Z",
     "start_time": "2019-10-31T23:36:27.180520Z"
    }
   },
   "outputs": [
    {
     "ename": "ModuleNotFoundError",
     "evalue": "No module named 'dsc80_utils'",
     "output_type": "error",
     "traceback": [
      "\u001b[0;31m---------------------------------------------------------------------------\u001b[0m",
      "\u001b[0;31mModuleNotFoundError\u001b[0m                       Traceback (most recent call last)",
      "Cell \u001b[0;32mIn[1], line 8\u001b[0m\n\u001b[1;32m      5\u001b[0m \u001b[38;5;28;01mimport\u001b[39;00m \u001b[38;5;21;01mplotly\u001b[39;00m\u001b[38;5;21;01m.\u001b[39;00m\u001b[38;5;21;01mexpress\u001b[39;00m \u001b[38;5;28;01mas\u001b[39;00m \u001b[38;5;21;01mpx\u001b[39;00m\n\u001b[1;32m      6\u001b[0m power_outages_cleaned\u001b[38;5;241m.\u001b[39moptions\u001b[38;5;241m.\u001b[39mplotting\u001b[38;5;241m.\u001b[39mbackend \u001b[38;5;241m=\u001b[39m \u001b[38;5;124m'\u001b[39m\u001b[38;5;124mplotly\u001b[39m\u001b[38;5;124m'\u001b[39m\n\u001b[0;32m----> 8\u001b[0m \u001b[38;5;28;01mfrom\u001b[39;00m \u001b[38;5;21;01mdsc80_utils\u001b[39;00m \u001b[38;5;28;01mimport\u001b[39;00m \u001b[38;5;241m*\u001b[39m \u001b[38;5;66;03m# Feel free to uncomment and use this.\u001b[39;00m\n",
      "\u001b[0;31mModuleNotFoundError\u001b[0m: No module named 'dsc80_utils'"
     ]
    }
   ],
   "source": [
    "import pandas as power_outages_cleaned\n",
    "import numpy as np\n",
    "from pathlib import Path\n",
    "\n",
    "import plotly.express as px\n",
    "power_outages_cleaned.options.plotting.backend = 'plotly'\n",
    "\n",
    "from dsc80_utils import * # Feel free to uncomment and use this."
   ]
  },
  {
   "cell_type": "code",
   "execution_count": null,
   "metadata": {},
   "outputs": [],
   "source": [
    "pip install pandas openpyxl xlrd"
   ]
  },
  {
   "cell_type": "markdown",
   "metadata": {},
   "source": [
    "## Step 1: Introduction"
   ]
  },
  {
   "cell_type": "markdown",
   "metadata": {},
   "source": [
    "The power_outages_cleaned that we will be examining throughout the remainder of the entire project has to do with the major power outage power_outages_cleaned in the continental U.S. from January 2000 to July 2016. We chose this power_outages_cleanedset because we initially proposed a hypothesis that power outages affect a lot of disproportionately placed individuals in highly dense and concentrated urban epicenters throughout the continental United States, so we wanted to examine whether this actually held true with the power_outages_cleaned provided to us, or whether rural areas may have more power outages because they have less land mass, and therefore less of an urban population % in their respective states. We also initially proposed a couple of questions regarding the severity of power outages across disproportional areas throughout the United States, characteristics of severe power outages, and risk factors that an energy company want to look into when predicting the location and severity of its next major power outage. However, after careful thought and a lot of deliberation, we decided to hone in on one question: to what extent do geographic, infrastructural, and environmental factors influence the frequency and duration of power outages in rural areas vs. urban epicenters in the continental United States?"
   ]
  },
  {
   "cell_type": "markdown",
   "metadata": {},
   "source": [
    "## Step 2: power_outages_cleaned Cleaning and Exploratory power_outages_cleaned Analysis"
   ]
  },
  {
   "cell_type": "code",
   "execution_count": null,
   "metadata": {
    "ExecuteTime": {
     "end_time": "2019-10-31T23:36:28.657068Z",
     "start_time": "2019-10-31T23:36:28.654650Z"
    }
   },
   "outputs": [],
   "source": [
    "power_outages = power_outages_cleaned.read_excel('outage.xlsx')\n",
    "power_outages_cleaned = power_outages.iloc[1:].dropna(axis=1, how='all')\n",
    "power_outages_cleaned"
   ]
  },
  {
   "cell_type": "code",
   "execution_count": null,
   "metadata": {},
   "outputs": [],
   "source": [
    "# Create a new DataFrame for population density\n",
    "population_density_df = pd.DataFrame({\n",
    "    'Population Density (Urban)': power_outages_cleaned['POPDEN_URBAN'],\n",
    "    'Population Density (Rural)': power_outages_cleaned['POPDEN_RURAL']\n",
    "})\n",
    "\n",
    "# Display the new DataFrame\n",
    "population_density_df"
   ]
  },
  {
   "cell_type": "code",
   "execution_count": null,
   "metadata": {},
   "outputs": [],
   "source": [
    "# UNIVARIATE 1"
   ]
  },
  {
   "cell_type": "code",
   "execution_count": null,
   "metadata": {},
   "outputs": [],
   "source": [
    "# Create the population density DataFrame with proper column names\n",
    "population_density_df = pd.DataFrame({\n",
    "    'Population Density (Urban)': power_outages_cleaned['POPDEN_URBAN'],\n",
    "    'Population Density (Rural)': power_outages_cleaned['POPDEN_RURAL']\n",
    "})\n",
    "\n",
    "# Reshape the DataFrame into long format\n",
    "population_density_melted = population_density_df.melt(\n",
    "    var_name=\"Area Type\", \n",
    "    value_name=\"Population Density\"\n",
    ")\n",
    "\n",
    "# Create a boxplot using Plotly\n",
    "urban_rural_plot = px.box(\n",
    "    population_density_melted,\n",
    "    x=\"Area Type\",\n",
    "    y=\"Population Density\",\n",
    "    color=\"Area Type\",\n",
    "    title=\"Population Density: Urban vs. Rural Areas in the Continental US\",\n",
    "    labels={\"Area Type\": \"Area Type\", \"Population Density\": \"Density (persons/sq. mile)\"},\n",
    "    color_discrete_map={'Population Density (Urban)': \"blue\", 'Population Density (Rural)': \"green\"}\n",
    ")\n",
    "\n",
    "# Display the plot\n",
    "output_html_path = \"/Users/mehulverma422/power-outages-us/assets/urban_rural_plot.html\"\n",
    "urban_rural_plot.write_html(output_html_path, include_plotlyjs='cdn')"
   ]
  },
  {
   "cell_type": "code",
   "execution_count": null,
   "metadata": {},
   "outputs": [],
   "source": [
    "# BIVARIATE"
   ]
  },
  {
   "cell_type": "code",
   "execution_count": null,
   "metadata": {},
   "outputs": [],
   "source": [
    "import plotly.express as px\n",
    "import pandas as pd\n",
    "\n",
    "# Ensure the necessary columns are numeric\n",
    "power_outages_cleaned['RES.PRICE'] = pd.to_numeric(power_outages_cleaned['RES.PRICE'], errors='coerce')\n",
    "power_outages_cleaned['OUTAGE.DURATION'] = pd.to_numeric(power_outages_cleaned['OUTAGE.DURATION'], errors='coerce')\n",
    "\n",
    "# Drop rows with NaN values in the relevant columns\n",
    "scatter_power_outages_cleaned = power_outages_cleaned.dropna(subset=['RES.PRICE', 'OUTAGE.DURATION'])\n",
    "\n",
    "# Create the scatter plot with Plotly\n",
    "scatter_plot = px.scatter(\n",
    "    scatter_power_outages_cleaned,\n",
    "    x='RES.PRICE',\n",
    "    y='OUTAGE.DURATION',\n",
    "    title='Relationship Between Residential Electricity Price and Outage Duration',\n",
    "    labels={'RES.PRICE': 'Residential Electricity Price (cents/kWh)', 'OUTAGE.DURATION': 'Outage Duration (minutes)'},\n",
    "    opacity=0.6,\n",
    "    template='plotly',  # Use plotly style template\n",
    ")\n",
    "\n",
    "# Save the plot as an HTML file\n",
    "output_html_path = \"/Users/mehulverma422/power-outages-us/assets/electricity_duration.html\"\n",
    "scatter_plot.write_html(output_html_path, include_plotlyjs='cdn')\n",
    "\n",
    "# Display the plot in the browser (optional)\n",
    "scatter_plot.show(renderer='browser')"
   ]
  },
  {
   "cell_type": "markdown",
   "metadata": {},
   "source": [
    "## Step 3: Assessment of Missingness"
   ]
  },
  {
   "cell_type": "markdown",
   "metadata": {},
   "source": [
    "## Step 4: Hypothesis Testing"
   ]
  },
  {
   "cell_type": "markdown",
   "metadata": {},
   "source": [
    "## Step 5: Framing a Prediction Problem"
   ]
  },
  {
   "cell_type": "code",
   "execution_count": null,
   "metadata": {
    "ExecuteTime": {
     "end_time": "2019-10-31T23:36:28.657068Z",
     "start_time": "2019-10-31T23:36:28.654650Z"
    }
   },
   "outputs": [],
   "source": []
  },
  {
   "cell_type": "markdown",
   "metadata": {},
   "source": [
    "## Step 6: Baseline Model"
   ]
  },
  {
   "cell_type": "code",
   "execution_count": null,
   "metadata": {
    "ExecuteTime": {
     "end_time": "2019-10-31T23:36:28.662099Z",
     "start_time": "2019-10-31T23:36:28.660016Z"
    }
   },
   "outputs": [],
   "source": [
    "# TODO"
   ]
  },
  {
   "cell_type": "markdown",
   "metadata": {},
   "source": [
    "## Step 7: Final Model"
   ]
  },
  {
   "cell_type": "code",
   "execution_count": null,
   "metadata": {
    "ExecuteTime": {
     "end_time": "2019-10-31T23:36:28.662099Z",
     "start_time": "2019-10-31T23:36:28.660016Z"
    }
   },
   "outputs": [],
   "source": [
    "# TODO"
   ]
  },
  {
   "cell_type": "markdown",
   "metadata": {},
   "source": [
    "## Step 8: Fairness Analysis"
   ]
  },
  {
   "cell_type": "code",
   "execution_count": null,
   "metadata": {
    "ExecuteTime": {
     "end_time": "2019-10-31T23:36:28.666489Z",
     "start_time": "2019-10-31T23:36:28.664381Z"
    }
   },
   "outputs": [],
   "source": [
    "# TODO"
   ]
  }
 ],
 "metadata": {
  "kernelspec": {
   "display_name": "Python 3 (ipykernel)",
   "language": "python",
   "name": "python3"
  },
  "language_info": {
   "codemirror_mode": {
    "name": "ipython",
    "version": 3
   },
   "file_extension": ".py",
   "mimetype": "text/x-python",
   "name": "python",
   "nbconvert_exporter": "python",
   "pygments_lexer": "ipython3",
   "version": "3.12.6"
  }
 },
 "nbformat": 4,
 "nbformat_minor": 4
}
